{
 "cells": [
  {
   "cell_type": "code",
   "execution_count": 11,
   "metadata": {},
   "outputs": [
    {
     "data": {
      "text/plain": [
       "[[1, 2],\n",
       " [1, 3],\n",
       " [2, 4],\n",
       " [3, 4],\n",
       " [3, 5],\n",
       " [4, 5],\n",
       " [5, 6],\n",
       " [5, 7],\n",
       " [5, 8],\n",
       " [6, 9],\n",
       " [7, 9],\n",
       " [8, 9],\n",
       " [9, 10],\n",
       " [9, 11],\n",
       " [10, 12],\n",
       " [11, 12]]"
      ]
     },
     "execution_count": 11,
     "metadata": {},
     "output_type": "execute_result"
    }
   ],
   "source": [
    "edges = [\n",
    "    [1,2],[1,3],[2,4],[3,4],[3,5],[4,5],[5,6],[5,7],[5,8],[6,9],[7,9],[8,9],[9,10],[9,11],[10,12],[11,12]\n",
    "]\n",
    "edges"
   ]
  },
  {
   "cell_type": "code",
   "execution_count": 12,
   "metadata": {},
   "outputs": [
    {
     "data": {
      "text/plain": [
       "'3'"
      ]
     },
     "execution_count": 12,
     "metadata": {},
     "output_type": "execute_result"
    }
   ],
   "source": [
    "str(3)"
   ]
  },
  {
   "cell_type": "code",
   "execution_count": 13,
   "metadata": {},
   "outputs": [
    {
     "data": {
      "text/plain": [
       "['1 2',\n",
       " '1 3',\n",
       " '2 4',\n",
       " '3 4',\n",
       " '3 5',\n",
       " '4 5',\n",
       " '5 6',\n",
       " '5 7',\n",
       " '5 8',\n",
       " '6 9',\n",
       " '7 9',\n",
       " '8 9',\n",
       " '9 10',\n",
       " '9 11',\n",
       " '10 12',\n",
       " '11 12']"
      ]
     },
     "execution_count": 13,
     "metadata": {},
     "output_type": "execute_result"
    }
   ],
   "source": [
    "edges = list(map(lambda x: str(x[0]) +' '+ str(x[1]) , edges))\n",
    "edges"
   ]
  },
  {
   "cell_type": "code",
   "execution_count": 15,
   "metadata": {},
   "outputs": [],
   "source": [
    "\n",
    "with open('problem8.11test2.txt', 'w', encoding='utf-8') as f:\n",
    "    for line in edges:\n",
    "        f.writelines(line + '\\n')"
   ]
  },
  {
   "cell_type": "code",
   "execution_count": 10,
   "metadata": {},
   "outputs": [
    {
     "data": {
      "text/plain": [
       "['1 21 32 43 43 54 55 65 75 86 97 98 99 109 1110 1211 12']"
      ]
     },
     "execution_count": 10,
     "metadata": {},
     "output_type": "execute_result"
    }
   ],
   "source": [
    "f = open('./problem8.11test2.txt', encoding='utf-8')\n",
    "f.readlines()"
   ]
  },
  {
   "cell_type": "code",
   "execution_count": null,
   "metadata": {},
   "outputs": [],
   "source": []
  }
 ],
 "metadata": {
  "kernelspec": {
   "display_name": "Python 3.8.13 ('work')",
   "language": "python",
   "name": "python3"
  },
  "language_info": {
   "codemirror_mode": {
    "name": "ipython",
    "version": 3
   },
   "file_extension": ".py",
   "mimetype": "text/x-python",
   "name": "python",
   "nbconvert_exporter": "python",
   "pygments_lexer": "ipython3",
   "version": "3.8.13"
  },
  "orig_nbformat": 4,
  "vscode": {
   "interpreter": {
    "hash": "fb21b435c17f28523c24ff2b780aed897615f513bdbd1f249e1856249da93eda"
   }
  }
 },
 "nbformat": 4,
 "nbformat_minor": 2
}
